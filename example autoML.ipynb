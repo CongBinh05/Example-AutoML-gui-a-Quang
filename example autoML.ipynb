{
 "cells": [
  {
   "cell_type": "markdown",
   "metadata": {},
   "source": [
    "# load dataset"
   ]
  },
  {
   "cell_type": "code",
   "execution_count": 1,
   "metadata": {},
   "outputs": [],
   "source": [
    "from sklearn.datasets import load_digits\n",
    "X = load_digits().data\n",
    "y = load_digits().target"
   ]
  },
  {
   "cell_type": "code",
   "execution_count": 2,
   "metadata": {},
   "outputs": [
    {
     "data": {
      "text/plain": [
       "array([[ 0.,  0.,  5., ...,  0.,  0.,  0.],\n",
       "       [ 0.,  0.,  0., ..., 10.,  0.,  0.],\n",
       "       [ 0.,  0.,  0., ..., 16.,  9.,  0.],\n",
       "       ...,\n",
       "       [ 0.,  0.,  1., ...,  6.,  0.,  0.],\n",
       "       [ 0.,  0.,  2., ..., 12.,  0.,  0.],\n",
       "       [ 0.,  0., 10., ..., 12.,  1.,  0.]])"
      ]
     },
     "execution_count": 2,
     "metadata": {},
     "output_type": "execute_result"
    }
   ],
   "source": [
    "X"
   ]
  },
  {
   "cell_type": "code",
   "execution_count": 3,
   "metadata": {},
   "outputs": [
    {
     "data": {
      "text/plain": [
       "array([0, 1, 2, ..., 8, 9, 8])"
      ]
     },
     "execution_count": 3,
     "metadata": {},
     "output_type": "execute_result"
    }
   ],
   "source": [
    "y"
   ]
  },
  {
   "cell_type": "markdown",
   "metadata": {},
   "source": [
    "# AutoML"
   ]
  },
  {
   "cell_type": "code",
   "execution_count": 4,
   "metadata": {},
   "outputs": [],
   "source": [
    "import numpy as np\n",
    "import matplotlib.pyplot as plt\n",
    "from sklearn.model_selection import GridSearchCV\n",
    "from sklearn.pipeline import Pipeline\n",
    "from sklearn.preprocessing import StandardScaler\n",
    "from sklearn.ensemble import RandomForestClassifier\n",
    "from sklearn.svm import SVC\n",
    "from sklearn.linear_model import LogisticRegression\n",
    "from sklearn.model_selection import train_test_split\n",
    "from sklearn.preprocessing import MinMaxScaler\n",
    "from sklearn.metrics import classification_report\n",
    "from sklearn.metrics import confusion_matrix, ConfusionMatrixDisplay\n",
    "from sklearn.decomposition import PCA"
   ]
  },
  {
   "cell_type": "code",
   "execution_count": 5,
   "metadata": {},
   "outputs": [],
   "source": [
    "# chia dữ liệu train/test\n",
    "X_train, X_test, y_train, y_test = train_test_split(X, y, test_size=0.33, random_state=42, shuffle=True)"
   ]
  },
  {
   "cell_type": "code",
   "execution_count": 6,
   "metadata": {},
   "outputs": [],
   "source": [
    "# Tạo danh sách các mô hình muốn sử dụng. \n",
    "models = {\n",
    "    'random_forest': RandomForestClassifier(),\n",
    "    'svc': SVC(),\n",
    "    'logistic_regression': LogisticRegression(max_iter=1000)\n",
    "}\n",
    "\n",
    "# Danh sách các siêu tham số để GridSearch nó tìm kiếm trong mỗi mô hình tương ứng.\n",
    "params = {\n",
    "    'random_forest': {\n",
    "        'clf__n_estimators': [50, 100, 200], \n",
    "        'clf__max_depth': [20, 30, 40]\n",
    "    },\n",
    "    'svc': {\n",
    "        'clf__C': [0.1, 1, 10], \n",
    "        'clf__kernel': ['linear', 'rbf']\n",
    "    },\n",
    "    'logistic_regression': {\n",
    "        'clf__C': [0.1, 1, 10]\n",
    "    }\n",
    "}"
   ]
  },
  {
   "cell_type": "code",
   "execution_count": 7,
   "metadata": {},
   "outputs": [],
   "source": [
    "# Tạo pipeline với mỗi mô hình. Ở đây sẽ có 3 pipeline ứng với 3 mô hình. \n",
    "pipelines = {}\n",
    "for name, model in models.items():\n",
    "    pipelines[name] = Pipeline([\n",
    "        ('scaler', StandardScaler()),\n",
    "        ('clf', model)\n",
    "    ])"
   ]
  },
  {
   "cell_type": "code",
   "execution_count": 8,
   "metadata": {},
   "outputs": [],
   "source": [
    "\n",
    "# Tạo danh sách các mô hình GridSearch ứng với từng model bên trên. \n",
    "grid_searches = {}\n",
    "for name in pipelines:\n",
    "    grid_searches[name] = GridSearchCV(\n",
    "        pipelines[name], \n",
    "        params[name], \n",
    "        cv=5,\n",
    "        n_jobs=-1\n",
    "    )"
   ]
  },
  {
   "cell_type": "code",
   "execution_count": 9,
   "metadata": {},
   "outputs": [
    {
     "name": "stdout",
     "output_type": "stream",
     "text": [
      "Model tốt nhất: Pipeline(steps=[('scaler', StandardScaler()), ('clf', SVC(C=10))])\n",
      "Hiệu suất của nó: 0.977551867219917\n"
     ]
    }
   ],
   "source": [
    "from sklearn.metrics import accuracy_score\n",
    "\n",
    "# Tìm xem model với tham số nào có hiệu suất tốt nhất. \n",
    "best_model = None\n",
    "best_score = -1\n",
    "# Từ danh sách các GridSearch của các model, ta fit chúng với dữ liệu và chọn model có hiệu suất tốt nhất.\n",
    "for name, grid_search in grid_searches.items():\n",
    "    grid_search.fit(X_train, y_train)\n",
    "    best_score_for_model = grid_search.best_score_\n",
    "    if best_score_for_model > best_score:\n",
    "        best_score = best_score_for_model\n",
    "        best_model = grid_search.best_estimator_\n",
    "\n",
    "# In mô hình tốt nhất và hiệu suất của nó.\n",
    "print(f\"Model tốt nhất: {best_model}\")\n",
    "print(f\"Hiệu suất của nó: {best_score}\")"
   ]
  },
  {
   "cell_type": "code",
   "execution_count": 10,
   "metadata": {},
   "outputs": [],
   "source": [
    "# dự đoán kết quả\n",
    "y_pred = best_model.predict(X_test)"
   ]
  },
  {
   "cell_type": "code",
   "execution_count": 11,
   "metadata": {},
   "outputs": [
    {
     "name": "stdout",
     "output_type": "stream",
     "text": [
      "              precision    recall  f1-score   support\n",
      "\n",
      "           0       1.00      1.00      1.00        55\n",
      "           1       0.98      1.00      0.99        55\n",
      "           2       0.95      1.00      0.97        52\n",
      "           3       0.98      0.95      0.96        56\n",
      "           4       0.98      1.00      0.99        64\n",
      "           5       0.99      0.97      0.98        73\n",
      "           6       0.98      1.00      0.99        57\n",
      "           7       1.00      0.98      0.99        62\n",
      "           8       0.96      0.94      0.95        52\n",
      "           9       0.97      0.96      0.96        68\n",
      "\n",
      "    accuracy                           0.98       594\n",
      "   macro avg       0.98      0.98      0.98       594\n",
      "weighted avg       0.98      0.98      0.98       594\n",
      "\n"
     ]
    }
   ],
   "source": [
    "# bảng thống kê kết quả\n",
    "print(classification_report(y_test, y_pred))"
   ]
  },
  {
   "cell_type": "code",
   "execution_count": 12,
   "metadata": {},
   "outputs": [
    {
     "data": {
      "image/png": "[encoded data removed]",
      "text/plain": [
       "<Figure size 640x480 with 2 Axes>"
      ]
     },
     "metadata": {},
     "output_type": "display_data"
    }
   ],
   "source": [
    "# ma trận nhầm lẫn\n",
    "cm = confusion_matrix(y_test, y_pred, labels=np.unique(y_test))\n",
    "disp = ConfusionMatrixDisplay(confusion_matrix=cm, display_labels=np.unique(y_test))\n",
    "disp.plot()\n",
    "plt.show()"
   ]
  }
 ],
 "metadata": {
  "kernelspec": {
   "display_name": "labs",
   "language": "python",
   "name": "python3"
  },
  "language_info": {
   "codemirror_mode": {
    "name": "ipython",
    "version": 3
   },
   "file_extension": ".py",
   "mimetype": "text/x-python",
   "name": "python",
   "nbconvert_exporter": "python",
   "pygments_lexer": "ipython3",
   "version": "3.10.13"
  }
 },
 "nbformat": 4,
 "nbformat_minor": 2
}
